{
 "cells": [
  {
   "cell_type": "code",
   "execution_count": 1,
   "metadata": {},
   "outputs": [],
   "source": [
    "import numpy as np\n",
    "import pandas as pd\n",
    "import math\n",
    "import matplotlib.pyplot as plt\n",
    "\n",
    "%matplotlib inline"
   ]
  },
  {
   "cell_type": "markdown",
   "metadata": {},
   "source": [
    "定数 λ > 0 に対し、自然数を値にとる確率変数 X が\n",
    "\n",
    "$$\n",
    "P(X=k)={\\frac  {\\lambda ^{k}e^{{-\\lambda }}}{k!}}\n",
    "$$\n",
    "\n",
    "を満たすとき、確率変数 X はパラメータ λ のポアソン分布に従うという。\n",
    "\n",
    "(https://ja.wikipedia.org/wiki/%E3%83%9D%E3%82%A2%E3%82%BD%E3%83%B3%E5%88%86%E5%B8%83 より)\n",
    "\n",
    "(注記)\n",
    "\n",
    "wikipediaだと、自然数に対する確率変数となっているが、k!でk=0の場合は1となるので、正の整数で良さそう。"
   ]
  },
  {
   "cell_type": "code",
   "execution_count": null,
   "metadata": {},
   "outputs": [],
   "source": []
  },
  {
   "cell_type": "code",
   "execution_count": 2,
   "metadata": {},
   "outputs": [],
   "source": [
    "# 書いてみる\n",
    "\n",
    "data_size = 20\n",
    "lamb = 0.35\n",
    "\n",
    "x = np.arange(data_size)\n",
    "p = np.empty(data_size)\n",
    "for k in range(len(x)):\n",
    "    p[k] = (lamb ** x[k]) * np.exp(-lamb) / math.factorial(x[k])"
   ]
  },
  {
   "cell_type": "code",
   "execution_count": 3,
   "metadata": {},
   "outputs": [
    {
     "data": {
      "text/plain": [
       "array([ 0,  1,  2,  3,  4,  5,  6,  7,  8,  9, 10, 11, 12, 13, 14, 15, 16,\n",
       "       17, 18, 19])"
      ]
     },
     "execution_count": 3,
     "metadata": {},
     "output_type": "execute_result"
    }
   ],
   "source": [
    "x"
   ]
  },
  {
   "cell_type": "code",
   "execution_count": 4,
   "metadata": {},
   "outputs": [
    {
     "data": {
      "text/plain": [
       "array([7.04688090e-01, 2.46640831e-01, 4.31621455e-02, 5.03558364e-03,\n",
       "       4.40613569e-04, 3.08429498e-05, 1.79917207e-06, 8.99586036e-08,\n",
       "       3.93568891e-09, 1.53054569e-10, 5.35690990e-12, 1.70447133e-13,\n",
       "       4.97137472e-15, 1.33844704e-16, 3.34611760e-18, 7.80760773e-20,\n",
       "       1.70791419e-21, 3.51629392e-23, 6.83723818e-25, 1.25949124e-26])"
      ]
     },
     "execution_count": 4,
     "metadata": {},
     "output_type": "execute_result"
    }
   ],
   "source": [
    "p"
   ]
  },
  {
   "cell_type": "code",
   "execution_count": 5,
   "metadata": {},
   "outputs": [
    {
     "data": {
      "text/plain": [
       "<matplotlib.axes._subplots.AxesSubplot at 0x187a8d2bac8>"
      ]
     },
     "execution_count": 5,
     "metadata": {},
     "output_type": "execute_result"
    },
    {
     "data": {
      "image/png": "[encoded data removed]",
      "text/plain": [
       "<Figure size 432x288 with 1 Axes>"
      ]
     },
     "metadata": {},
     "output_type": "display_data"
    }
   ],
   "source": [
    "df = pd.DataFrame({\n",
    "    'x': x,\n",
    "    'p': p,\n",
    "})\n",
    "df.plot(x='x', y='p', style='o--')"
   ]
  },
  {
   "cell_type": "code",
   "execution_count": 6,
   "metadata": {},
   "outputs": [
    {
     "data": {
      "text/plain": [
       "<matplotlib.axes._subplots.AxesSubplot at 0x187a8eadef0>"
      ]
     },
     "execution_count": 6,
     "metadata": {},
     "output_type": "execute_result"
    },
    {
     "data": {
      "image/png": "[encoded data removed]",
      "text/plain": [
       "<Figure size 432x288 with 1 Axes>"
      ]
     },
     "metadata": {},
     "output_type": "display_data"
    }
   ],
   "source": [
    "# パラメータ変更\n",
    "data_size = 20\n",
    "lamb = 5.0\n",
    "\n",
    "x = np.arange(data_size)\n",
    "p = np.empty(data_size)\n",
    "for k in range(len(x)):\n",
    "    p[k] = (lamb ** x[k]) * np.exp(-lamb) / math.factorial(x[k])\n",
    "    \n",
    "df = pd.DataFrame({\n",
    "    'x': x,\n",
    "    'p': p,\n",
    "})\n",
    "df.plot(x='x', y='p', style='o--')"
   ]
  },
  {
   "cell_type": "code",
   "execution_count": 7,
   "metadata": {},
   "outputs": [
    {
     "name": "stdout",
     "output_type": "stream",
     "text": [
      "λ:5.0, Xの期待値:4.999992991510539\n",
      "λ:5.0, Xの分散値:4.999857583053792\n",
      "sum of p:0.9999996547864181\n"
     ]
    }
   ],
   "source": [
    "# ポアソン分布の特徴\n",
    "# xとpで構成される確率変数Xの期待値がλ\n",
    "print('λ:{}, Xの期待値:{}'.format(lamb, np.sum(x*p)))\n",
    "# xとpで構成される確率変数Xの分散値がλ(V(X) = E(X^2) - (E(X))^2 を利用)\n",
    "print('λ:{}, Xの分散値:{}'.format(lamb, np.sum(x**2 * p) - lamb**2))\n",
    "# 確率分布の合計が1\n",
    "print('sum of p:{}'.format(np.sum(p)))"
   ]
  },
  {
   "cell_type": "markdown",
   "metadata": {},
   "source": [
    "## ポアソン分布の利用方法"
   ]
  },
  {
   "cell_type": "markdown",
   "metadata": {},
   "source": [
    "* プロシア陸軍において馬に蹴られて死んだ兵士数\n",
    "* 交通事故件数\n",
    "* 大量生産の不良品数\n",
    "* 破産件数\n",
    "* 火災件数\n",
    "* 砲弾命中数\n",
    "* 遺伝子の突然変異数\n",
    "* 電話の呼び数\n",
    "* 渋滞していない高速道路の料金ゲートへの車の到着数\n",
    "\n",
    "(東京大学出版会 統計学入門より)\n",
    "\n",
    "λのみにより分布が求められる。λは与えられたデータセットの平均をセットする。"
   ]
  },
  {
   "cell_type": "markdown",
   "metadata": {},
   "source": [
    "# 例\n",
    "## 年間50件交通事故が発生している市で、1日あたり交通事故が2件以上発生する確率"
   ]
  },
  {
   "cell_type": "code",
   "execution_count": 8,
   "metadata": {},
   "outputs": [],
   "source": [
    "from scipy.stats import poisson\n",
    "\n",
    "accident_per_day = 50 / 365\n",
    "poisson_arr = np.random.poisson(lam=accident_per_day, size=10000)\n",
    "max_val = np.max(poisson_arr)\n",
    "\n",
    "# ポワソン分布に従った確率変数を取得\n",
    "x_range = np.arange(max_val + 1)\n",
    "poisson_prob = poisson.pmf(x_range, mu=accident_per_day)"
   ]
  },
  {
   "cell_type": "code",
   "execution_count": 9,
   "metadata": {},
   "outputs": [
    {
     "data": {
      "image/png": "[encoded data removed]",
      "text/plain": [
       "<Figure size 432x288 with 2 Axes>"
      ]
     },
     "metadata": {},
     "output_type": "display_data"
    }
   ],
   "source": [
    "fig, ax1 = plt.subplots()\n",
    "ax1.hist(x=poisson_arr, align='mid', bins=10)\n",
    "ax2 = ax1.twinx()\n",
    "ax2.plot(x_range, poisson_prob, 'ro--')\n",
    "plt.show()\n",
    "# 2軸になったことでy軸の原点がずれているが、おおむね傾向は問題なさそう"
   ]
  },
  {
   "cell_type": "code",
   "execution_count": 10,
   "metadata": {},
   "outputs": [
    {
     "name": "stdout",
     "output_type": "stream",
     "text": [
      "1日2件以上の交通事故発生確率: 0.0086\n",
      "1日2件以上の交通事故発生確率: 0.008555063881597425\n"
     ]
    }
   ],
   "source": [
    "# ランダムで発生したpoisson分布から求めた2件/1日以上の交通事故が発生する可能性\n",
    "arr_over_2 = np.sum(poisson_arr > 1) / 10000\n",
    "print('1日2件以上の交通事故発生確率: {}'.format(arr_over_2))\n",
    " \n",
    "# poisson分布に従った確率分布から求めた2件/1日以上の交通事故が発生する可能性\n",
    "prob_over_2 = np.sum(poisson_prob[2:])\n",
    "print('1日2件以上の交通事故発生確率: {}'.format(prob_over_2))"
   ]
  },
  {
   "cell_type": "code",
   "execution_count": null,
   "metadata": {},
   "outputs": [],
   "source": []
  },
  {
   "cell_type": "code",
   "execution_count": null,
   "metadata": {},
   "outputs": [],
   "source": []
  }
 ],
 "metadata": {
  "kernelspec": {
   "display_name": "Python 3",
   "language": "python",
   "name": "python3"
  },
  "language_info": {
   "codemirror_mode": {
    "name": "ipython",
    "version": 3
   },
   "file_extension": ".py",
   "mimetype": "text/x-python",
   "name": "python",
   "nbconvert_exporter": "python",
   "pygments_lexer": "ipython3",
   "version": "3.6.5"
  }
 },
 "nbformat": 4,
 "nbformat_minor": 2
}
